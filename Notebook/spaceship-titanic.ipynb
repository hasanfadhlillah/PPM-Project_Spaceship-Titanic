{
 "cells": [
  {
   "cell_type": "markdown",
   "id": "2353d543",
   "metadata": {},
   "source": [
    "# **PPM - Spaceship Titanic**"
   ]
  },
  {
   "cell_type": "markdown",
   "id": "b4abeb4c",
   "metadata": {},
   "source": [
    "## Data Preparation"
   ]
  },
  {
   "cell_type": "code",
   "execution_count": 1,
   "id": "a5a85dc4",
   "metadata": {
    "_cell_guid": "b1076dfc-b9ad-4769-8c92-a6c4dae69d19",
    "_uuid": "8f2839f25d086af736a60e9eeb907d3b93b6e0e5",
    "execution": {
     "iopub.execute_input": "2022-12-31T21:12:26.021387Z",
     "iopub.status.busy": "2022-12-31T21:12:26.020439Z",
     "iopub.status.idle": "2022-12-31T21:12:26.034078Z",
     "shell.execute_reply": "2022-12-31T21:12:26.033206Z"
    },
    "papermill": {
     "duration": 0.03291,
     "end_time": "2022-12-31T21:12:26.036342",
     "exception": false,
     "start_time": "2022-12-31T21:12:26.003432",
     "status": "completed"
    },
    "tags": []
   },
   "outputs": [],
   "source": [
    "# Import semua library yang diperlukan\n",
    "import warnings\n",
    "import numpy as np\n",
    "import pandas as pd\n",
    "import matplotlib.pyplot as plt\n",
    "\n",
    "from sklearn.preprocessing import OrdinalEncoder, LabelEncoder, StandardScaler\n",
    "from category_encoders import TargetEncoder\n",
    "from sklearn.experimental import enable_iterative_imputer\n",
    "from sklearn.impute import IterativeImputer, SimpleImputer\n",
    "from sklearn.feature_selection import mutual_info_classif\n",
    "from sklearn.model_selection import train_test_split,  GridSearchCV, RandomizedSearchCV\n",
    "from sklearn.metrics import accuracy_score\n",
    "from sklearn.model_selection import cross_val_score\n",
    "\n",
    "from sklearn.ensemble import RandomForestClassifier, GradientBoostingClassifier, StackingClassifier\n",
    "from sklearn.neighbors import KNeighborsClassifier\n",
    "from sklearn.svm import SVC\n",
    "from sklearn.tree import DecisionTreeClassifier\n",
    "from sklearn.naive_bayes import GaussianNB\n",
    "from sklearn.linear_model import LogisticRegression\n",
    "\n",
    "from xgboost import XGBClassifier\n",
    "from catboost import CatBoostClassifier\n",
    "\n",
    "warnings.filterwarnings('ignore')"
   ]
  },
  {
   "cell_type": "code",
   "execution_count": 2,
   "id": "f5e0f429",
   "metadata": {
    "execution": {
     "iopub.execute_input": "2022-12-31T21:12:26.068835Z",
     "iopub.status.busy": "2022-12-31T21:12:26.068405Z",
     "iopub.status.idle": "2022-12-31T21:12:26.133212Z",
     "shell.execute_reply": "2022-12-31T21:12:26.132152Z"
    },
    "papermill": {
     "duration": 0.084118,
     "end_time": "2022-12-31T21:12:26.135821",
     "exception": false,
     "start_time": "2022-12-31T21:12:26.051703",
     "status": "completed"
    },
    "tags": []
   },
   "outputs": [],
   "source": [
    "# Baca data latih dari file CSV\n",
    "train_df = pd.read_csv(\"../Datasets/train.csv\")\n",
    "\n",
    "# Pisahkan label dari data latih\n",
    "train_labels = train_df.pop('Transported')"
   ]
  },
  {
   "cell_type": "code",
   "execution_count": 3,
   "id": "436392a1",
   "metadata": {
    "execution": {
     "iopub.execute_input": "2022-12-31T21:12:26.296145Z",
     "iopub.status.busy": "2022-12-31T21:12:26.295730Z",
     "iopub.status.idle": "2022-12-31T21:12:26.307615Z",
     "shell.execute_reply": "2022-12-31T21:12:26.306675Z"
    },
    "papermill": {
     "duration": 0.031413,
     "end_time": "2022-12-31T21:12:26.310049",
     "exception": false,
     "start_time": "2022-12-31T21:12:26.278636",
     "status": "completed"
    },
    "tags": []
   },
   "outputs": [],
   "source": [
    "# Hapus kolom \"Name\" karena tidak diperlukan dalam analisis ini\n",
    "train_df.drop([\"Name\"], axis=1, inplace=True)"
   ]
  },
  {
   "cell_type": "code",
   "execution_count": 4,
   "id": "c8243d1e",
   "metadata": {},
   "outputs": [],
   "source": [
    "# Ekstrak informasi dari kolom \"Cabin\" dan buat kolom baru \"deck\", \"num\", dan \"side\"\n",
    "train_df[['deck', 'num', 'side']] = train_df['Cabin'].str.extract(r'(\\w)(\\d+)(\\w)')"
   ]
  },
  {
   "cell_type": "code",
   "execution_count": 5,
   "id": "1d067599",
   "metadata": {},
   "outputs": [],
   "source": [
    "# Hapus kolom \"Cabin\" setelah ekstraksi informasi\n",
    "train_df.drop([\"Cabin\"], axis=1, inplace=True)"
   ]
  },
  {
   "cell_type": "code",
   "execution_count": 6,
   "id": "b1614070",
   "metadata": {},
   "outputs": [],
   "source": [
    "# # Membuat fitur pengelompokan usia\n",
    "# bins = [0, 5, 12, 17, 26, 36, 46, 56, np.inf]\n",
    "# labels = ['Bayi', 'Kanak-kanak', 'Remaja Awal', 'Remaja Akhir', 'Dewasa Awal', 'Dewasa Akhir', 'Lansia Awal', 'Lansia Akhir']\n",
    "# train_df['AgeGroup'] = pd.cut(train_df['Age'], bins=bins, labels=labels)\n",
    "\n",
    "# Membuat fitur total pengeluaran\n",
    "amenities = ['RoomService', 'FoodCourt', 'ShoppingMall', 'Spa', 'VRDeck']\n",
    "train_df['TotalSpend'] = train_df[amenities].sum(axis=1)\n",
    "\n",
    "# Membuat fitur rasio pengeluaran dan usia\n",
    "train_df['SpendAgeRatio'] = train_df['TotalSpend'] / train_df['Age']"
   ]
  },
  {
   "cell_type": "code",
   "execution_count": 7,
   "id": "3cc4b7f5",
   "metadata": {},
   "outputs": [],
   "source": [
    "# # Hapus kolom \"Age\" setelah ekstraksi informasi\n",
    "# train_df.drop([\"Age\"], axis=1, inplace=True)"
   ]
  },
  {
   "cell_type": "code",
   "execution_count": 8,
   "id": "e08b4387",
   "metadata": {},
   "outputs": [],
   "source": [
    "# Ekstrak informasi grup dari \"PassengerId\"\n",
    "train_df[\"group\"] = train_df[\"PassengerId\"].str.split(\"_\").str[0] \n",
    "train_df[\"group\"] = pd.to_numeric(train_df[\"group\"])"
   ]
  },
  {
   "cell_type": "code",
   "execution_count": 9,
   "id": "bf7d5037",
   "metadata": {},
   "outputs": [],
   "source": [
    "# Hapus \"PassengerId\" setelah ekstraksi informasi\n",
    "train_df.drop(\"PassengerId\", axis= 1, inplace= True)"
   ]
  },
  {
   "cell_type": "code",
   "execution_count": 10,
   "id": "662736f2",
   "metadata": {},
   "outputs": [
    {
     "data": {
      "image/png": "[encoded data removed]",
      "text/plain": [
       "<Figure size 640x480 with 1 Axes>"
      ]
     },
     "metadata": {},
     "output_type": "display_data"
    }
   ],
   "source": [
    "# Distribusi target\n",
    "plt.pie(train_labels.value_counts(), labels=['Tidak Terangkut', 'Terangkut'], autopct='%1.1f%%')\n",
    "plt.title('Distribusi Target (Transported)')\n",
    "plt.show()"
   ]
  },
  {
   "cell_type": "markdown",
   "id": "bfd3e833",
   "metadata": {},
   "source": [
    "## Preprocessing Data"
   ]
  },
  {
   "cell_type": "code",
   "execution_count": 11,
   "id": "05ac65a1",
   "metadata": {
    "execution": {
     "iopub.execute_input": "2022-12-31T21:12:26.404720Z",
     "iopub.status.busy": "2022-12-31T21:12:26.404330Z",
     "iopub.status.idle": "2022-12-31T21:12:26.414798Z",
     "shell.execute_reply": "2022-12-31T21:12:26.413987Z"
    },
    "papermill": {
     "duration": 0.029387,
     "end_time": "2022-12-31T21:12:26.416852",
     "exception": false,
     "start_time": "2022-12-31T21:12:26.387465",
     "status": "completed"
    },
    "tags": []
   },
   "outputs": [],
   "source": [
    "# Tentukan kolom kategorikal dan numerik\n",
    "categorical_cols = train_df.select_dtypes(include=[\"bool_\", \"object_\", \"category\"]).columns\n",
    "numeric_cols = train_df.select_dtypes(exclude=[\"bool_\", \"object_\", \"category\"]).columns"
   ]
  },
  {
   "cell_type": "code",
   "execution_count": 12,
   "id": "d2caee7f",
   "metadata": {
    "execution": {
     "iopub.execute_input": "2022-12-31T21:12:26.788045Z",
     "iopub.status.busy": "2022-12-31T21:12:26.787635Z",
     "iopub.status.idle": "2022-12-31T21:12:27.821616Z",
     "shell.execute_reply": "2022-12-31T21:12:27.820786Z"
    },
    "papermill": {
     "duration": 1.054271,
     "end_time": "2022-12-31T21:12:27.824440",
     "exception": false,
     "start_time": "2022-12-31T21:12:26.770169",
     "status": "completed"
    },
    "tags": []
   },
   "outputs": [],
   "source": [
    "# # Lakukan encoding pada kolom kategorikal dengan OrdinalEncoder\n",
    "# encoder = OrdinalEncoder()\n",
    "# train_df[categorical_cols] = encoder.fit_transform(train_df[categorical_cols])"
   ]
  },
  {
   "cell_type": "code",
   "execution_count": 13,
   "id": "c0371aac",
   "metadata": {},
   "outputs": [],
   "source": [
    "# # Lakukan encoding pada kolom kategorikal dengan LabelEncoder\n",
    "# encoder = LabelEncoder()\n",
    "# for col in categorical_cols:\n",
    "#     train_df[col] = encoder.fit_transform(train_df[col])"
   ]
  },
  {
   "cell_type": "code",
   "execution_count": 14,
   "id": "a3d58d6a",
   "metadata": {},
   "outputs": [],
   "source": [
    "# Lakukan encoding dengan TargetEncoder\n",
    "encoder = TargetEncoder()\n",
    "train_df[categorical_cols] = encoder.fit_transform(train_df[categorical_cols], train_labels)"
   ]
  },
  {
   "cell_type": "code",
   "execution_count": 15,
   "id": "66219bfa",
   "metadata": {
    "execution": {
     "iopub.execute_input": "2022-12-31T21:12:28.015969Z",
     "iopub.status.busy": "2022-12-31T21:12:28.015175Z",
     "iopub.status.idle": "2022-12-31T21:12:28.025185Z",
     "shell.execute_reply": "2022-12-31T21:12:28.024077Z"
    },
    "papermill": {
     "duration": 0.030082,
     "end_time": "2022-12-31T21:12:28.027318",
     "exception": false,
     "start_time": "2022-12-31T21:12:27.997236",
     "status": "completed"
    },
    "tags": []
   },
   "outputs": [
    {
     "data": {
      "text/plain": [
       "1479"
      ]
     },
     "execution_count": 15,
     "metadata": {},
     "output_type": "execute_result"
    }
   ],
   "source": [
    "# Cek jumlah nilai yang hilang\n",
    "train_df.isna().sum().sum()"
   ]
  },
  {
   "cell_type": "code",
   "execution_count": 16,
   "id": "542131b0",
   "metadata": {
    "execution": {
     "iopub.execute_input": "2022-12-31T21:12:28.359991Z",
     "iopub.status.busy": "2022-12-31T21:12:28.359531Z",
     "iopub.status.idle": "2022-12-31T21:12:28.533857Z",
     "shell.execute_reply": "2022-12-31T21:12:28.532257Z"
    },
    "papermill": {
     "duration": 0.196373,
     "end_time": "2022-12-31T21:12:28.538029",
     "exception": false,
     "start_time": "2022-12-31T21:12:28.341656",
     "status": "completed"
    },
    "tags": []
   },
   "outputs": [],
   "source": [
    "# Imputasi nilai yang hilang pada kolom numerik dengan IterativeImputer\n",
    "iterative_imputer = IterativeImputer()\n",
    "train_df[numeric_cols] = pd.DataFrame(iterative_imputer.fit_transform(train_df[numeric_cols]), columns= numeric_cols)"
   ]
  },
  {
   "cell_type": "code",
   "execution_count": 17,
   "id": "4e63bf23",
   "metadata": {
    "execution": {
     "iopub.execute_input": "2022-12-31T21:12:28.672853Z",
     "iopub.status.busy": "2022-12-31T21:12:28.672429Z",
     "iopub.status.idle": "2022-12-31T21:12:28.685256Z",
     "shell.execute_reply": "2022-12-31T21:12:28.684412Z"
    },
    "papermill": {
     "duration": 0.032939,
     "end_time": "2022-12-31T21:12:28.687483",
     "exception": false,
     "start_time": "2022-12-31T21:12:28.654544",
     "status": "completed"
    },
    "tags": []
   },
   "outputs": [],
   "source": [
    "# Imputasi nilai yang hilang pada kolom kategorikal dengan SimpleImputer\n",
    "categorical_imputer = SimpleImputer(strategy= \"most_frequent\")\n",
    "train_df[categorical_cols] = pd.DataFrame(categorical_imputer.fit_transform(train_df[categorical_cols]), columns= categorical_cols)"
   ]
  },
  {
   "cell_type": "code",
   "execution_count": 18,
   "id": "47e2b7eb",
   "metadata": {
    "execution": {
     "iopub.execute_input": "2022-12-31T21:12:28.755533Z",
     "iopub.status.busy": "2022-12-31T21:12:28.755110Z",
     "iopub.status.idle": "2022-12-31T21:12:28.764119Z",
     "shell.execute_reply": "2022-12-31T21:12:28.763362Z"
    },
    "papermill": {
     "duration": 0.029021,
     "end_time": "2022-12-31T21:12:28.766195",
     "exception": false,
     "start_time": "2022-12-31T21:12:28.737174",
     "status": "completed"
    },
    "tags": []
   },
   "outputs": [
    {
     "data": {
      "text/plain": [
       "0"
      ]
     },
     "execution_count": 18,
     "metadata": {},
     "output_type": "execute_result"
    }
   ],
   "source": [
    "# Cek kembali jumlah nilai yang hilang\n",
    "train_df.isna().sum().sum()"
   ]
  },
  {
   "cell_type": "code",
   "execution_count": 19,
   "id": "f42c65d2",
   "metadata": {
    "execution": {
     "iopub.execute_input": "2022-12-31T21:12:29.092678Z",
     "iopub.status.busy": "2022-12-31T21:12:29.091547Z",
     "iopub.status.idle": "2022-12-31T21:12:29.103376Z",
     "shell.execute_reply": "2022-12-31T21:12:29.102561Z"
    },
    "papermill": {
     "duration": 0.031779,
     "end_time": "2022-12-31T21:12:29.105574",
     "exception": false,
     "start_time": "2022-12-31T21:12:29.073795",
     "status": "completed"
    },
    "tags": []
   },
   "outputs": [],
   "source": [
    "# Lakukan penskalaan pada kolom numerik dengan StandardScaler\n",
    "scaler = StandardScaler()\n",
    "new_col_names = [col + \"_scaled\" for col in numeric_cols]\n",
    "\n",
    "train_df[new_col_names] = scaler.fit_transform(train_df[numeric_cols]) "
   ]
  },
  {
   "cell_type": "code",
   "execution_count": 20,
   "id": "6b7087b3",
   "metadata": {
    "execution": {
     "iopub.execute_input": "2022-12-31T21:12:29.332536Z",
     "iopub.status.busy": "2022-12-31T21:12:29.332122Z",
     "iopub.status.idle": "2022-12-31T21:12:29.969876Z",
     "shell.execute_reply": "2022-12-31T21:12:29.968562Z"
    },
    "papermill": {
     "duration": 0.658647,
     "end_time": "2022-12-31T21:12:29.972224",
     "exception": false,
     "start_time": "2022-12-31T21:12:29.313577",
     "status": "completed"
    },
    "tags": []
   },
   "outputs": [
    {
     "data": {
      "text/plain": [
       "TotalSpend              0.135769\n",
       "TotalSpend_scaled       0.131117\n",
       "SpendAgeRatio           0.112989\n",
       "CryoSleep               0.112680\n",
       "SpendAgeRatio_scaled    0.112418\n",
       "Spa_scaled              0.075916\n",
       "Spa                     0.073786\n",
       "RoomService             0.073186\n",
       "RoomService_scaled      0.065981\n",
       "VRDeck_scaled           0.062338\n",
       "VRDeck                  0.060381\n",
       "ShoppingMall_scaled     0.051886\n",
       "FoodCourt               0.050537\n",
       "FoodCourt_scaled        0.044224\n",
       "ShoppingMall            0.041630\n",
       "group                   0.024067\n",
       "group_scaled            0.018509\n",
       "Age_scaled              0.017394\n",
       "HomePlanet              0.017131\n",
       "Age                     0.013503\n",
       "deck                    0.008448\n",
       "Destination             0.004865\n",
       "num                     0.001865\n",
       "VIP                     0.000000\n",
       "side                    0.000000\n",
       "Name: MI Scores, dtype: float64"
      ]
     },
     "execution_count": 20,
     "metadata": {},
     "output_type": "execute_result"
    }
   ],
   "source": [
    "# Hitung skor Mutual Information untuk setiap fitur\n",
    "mi_scores = mutual_info_classif(train_df, train_labels)\n",
    "mi_scores = pd.Series(mi_scores, name=\"MI Scores\", index=train_df.columns)\n",
    "mi_scores = mi_scores.sort_values(ascending=False)\n",
    "mi_scores"
   ]
  },
  {
   "cell_type": "code",
   "execution_count": 21,
   "id": "dd8bb128",
   "metadata": {
    "execution": {
     "iopub.execute_input": "2022-12-31T21:12:30.043246Z",
     "iopub.status.busy": "2022-12-31T21:12:30.042342Z",
     "iopub.status.idle": "2022-12-31T21:12:30.048829Z",
     "shell.execute_reply": "2022-12-31T21:12:30.047702Z"
    },
    "papermill": {
     "duration": 0.027034,
     "end_time": "2022-12-31T21:12:30.050916",
     "exception": false,
     "start_time": "2022-12-31T21:12:30.023882",
     "status": "completed"
    },
    "tags": []
   },
   "outputs": [],
   "source": [
    "# Hapus kolom yang memiliki skor MI rendah dan double\n",
    "train_df.drop([\"Destination\", \"VIP\", \"TotalSpend\", \"SpendAgeRatio\", \"Spa\", \"RoomService\", \"VRDeck\", \"ShoppingMall\", \"FoodCourt\", \"Age\"], axis= 1, inplace= True)"
   ]
  },
  {
   "cell_type": "code",
   "execution_count": 22,
   "id": "93d6083e",
   "metadata": {},
   "outputs": [
    {
     "name": "stdout",
     "output_type": "stream",
     "text": [
      "<class 'pandas.core.frame.DataFrame'>\n",
      "RangeIndex: 8693 entries, 0 to 8692\n",
      "Data columns (total 15 columns):\n",
      " #   Column                Non-Null Count  Dtype  \n",
      "---  ------                --------------  -----  \n",
      " 0   HomePlanet            8693 non-null   float64\n",
      " 1   CryoSleep             8693 non-null   float64\n",
      " 2   deck                  8693 non-null   float64\n",
      " 3   num                   8693 non-null   float64\n",
      " 4   side                  8693 non-null   float64\n",
      " 5   group                 8693 non-null   float64\n",
      " 6   Age_scaled            8693 non-null   float64\n",
      " 7   RoomService_scaled    8693 non-null   float64\n",
      " 8   FoodCourt_scaled      8693 non-null   float64\n",
      " 9   ShoppingMall_scaled   8693 non-null   float64\n",
      " 10  Spa_scaled            8693 non-null   float64\n",
      " 11  VRDeck_scaled         8693 non-null   float64\n",
      " 12  TotalSpend_scaled     8693 non-null   float64\n",
      " 13  SpendAgeRatio_scaled  8693 non-null   float64\n",
      " 14  group_scaled          8693 non-null   float64\n",
      "dtypes: float64(15)\n",
      "memory usage: 1018.8 KB\n"
     ]
    }
   ],
   "source": [
    "train_df.info()"
   ]
  },
  {
   "cell_type": "markdown",
   "id": "709db39a",
   "metadata": {},
   "source": [
    "## Modeling and Evaluation"
   ]
  },
  {
   "cell_type": "code",
   "execution_count": 23,
   "id": "04f2016f",
   "metadata": {
    "execution": {
     "iopub.execute_input": "2022-12-31T21:12:30.173265Z",
     "iopub.status.busy": "2022-12-31T21:12:30.172513Z",
     "iopub.status.idle": "2022-12-31T21:12:30.180055Z",
     "shell.execute_reply": "2022-12-31T21:12:30.179264Z"
    },
    "papermill": {
     "duration": 0.038552,
     "end_time": "2022-12-31T21:12:30.183024",
     "exception": false,
     "start_time": "2022-12-31T21:12:30.144472",
     "status": "completed"
    },
    "tags": []
   },
   "outputs": [],
   "source": [
    "# Bagi data menjadi data latih dan validasi\n",
    "X_train, X_valid, y_train, y_valid = train_test_split(train_df, train_labels, train_size=0.8)"
   ]
  },
  {
   "cell_type": "code",
   "execution_count": 24,
   "id": "da76280a",
   "metadata": {},
   "outputs": [],
   "source": [
    "# Function to perform hyperparameter tuning\n",
    "def hyperparameter_tuning(model, param_grid, X_train, y_train):\n",
    "    grid_search = GridSearchCV(model, param_grid, cv=5, scoring='accuracy', n_jobs=-1, verbose=3)\n",
    "    grid_search.fit(X_train, y_train)\n",
    "    print(f\"Best parameters for {model.__class__.__name__}: {grid_search.best_params_}\")\n",
    "    print(f\"Best cross-validation accuracy: {grid_search.best_score_}\")\n",
    "    return grid_search.best_estimator_"
   ]
  },
  {
   "cell_type": "code",
   "execution_count": 25,
   "id": "792ceb13",
   "metadata": {
    "execution": {
     "iopub.execute_input": "2022-12-31T21:12:30.357370Z",
     "iopub.status.busy": "2022-12-31T21:12:30.356650Z",
     "iopub.status.idle": "2022-12-31T21:12:42.821737Z",
     "shell.execute_reply": "2022-12-31T21:12:42.820394Z"
    },
    "papermill": {
     "duration": 12.490535,
     "end_time": "2022-12-31T21:12:42.824633",
     "exception": false,
     "start_time": "2022-12-31T21:12:30.334098",
     "status": "completed"
    },
    "tags": []
   },
   "outputs": [
    {
     "name": "stdout",
     "output_type": "stream",
     "text": [
      "RandomForestClassifier accuracy:  0.78205865439908\n"
     ]
    }
   ],
   "source": [
    "# Buat model RandomForestClassifier dan latih model\n",
    "rf = RandomForestClassifier(n_estimators=3000, random_state=42)\n",
    "rf.fit(X_train, y_train)\n",
    "\n",
    "# Cetak akurasi model RandomForestClassifier\n",
    "print('RandomForestClassifier accuracy: ', accuracy_score(y_valid, rf.predict(X_valid)))"
   ]
  },
  {
   "cell_type": "code",
   "execution_count": 26,
   "id": "194de70c",
   "metadata": {},
   "outputs": [
    {
     "name": "stdout",
     "output_type": "stream",
     "text": [
      "Fitting 5 folds for each of 36 candidates, totalling 180 fits\n",
      "Best parameters for RandomForestClassifier: {'max_depth': 10, 'min_samples_split': 10, 'n_estimators': 300}\n",
      "Best cross-validation accuracy: 0.8002581859745848\n"
     ]
    }
   ],
   "source": [
    "# RandomForestClassifier tuning\n",
    "rf_params = {\n",
    "    'n_estimators': [100, 300, 500],\n",
    "    'max_depth': [None, 10, 20, 30],\n",
    "    'min_samples_split': [2, 5, 10]\n",
    "}\n",
    "rf = RandomForestClassifier(random_state=42)\n",
    "rf_best = hyperparameter_tuning(rf, rf_params, X_train, y_train)"
   ]
  },
  {
   "cell_type": "code",
   "execution_count": 27,
   "id": "cdd86e91",
   "metadata": {
    "execution": {
     "iopub.execute_input": "2022-12-31T21:12:42.863640Z",
     "iopub.status.busy": "2022-12-31T21:12:42.863246Z",
     "iopub.status.idle": "2022-12-31T21:12:43.543685Z",
     "shell.execute_reply": "2022-12-31T21:12:43.542069Z"
    },
    "papermill": {
     "duration": 0.70857,
     "end_time": "2022-12-31T21:12:43.552861",
     "exception": false,
     "start_time": "2022-12-31T21:12:42.844291",
     "status": "completed"
    },
    "tags": []
   },
   "outputs": [
    {
     "name": "stdout",
     "output_type": "stream",
     "text": [
      "LogisticRegression accuracy:  0.777458309373203\n"
     ]
    }
   ],
   "source": [
    "# Buat model LogisticRegression dan latih model\n",
    "lr = LogisticRegression(max_iter=3000, random_state=42)\n",
    "lr.fit(X_train, y_train)\n",
    "\n",
    "# Cetak akurasi model LogisticRegression\n",
    "print('LogisticRegression accuracy: ', accuracy_score(y_valid, lr.predict(X_valid)))"
   ]
  },
  {
   "cell_type": "code",
   "execution_count": 28,
   "id": "05653a64",
   "metadata": {},
   "outputs": [
    {
     "name": "stdout",
     "output_type": "stream",
     "text": [
      "Fitting 5 folds for each of 12 candidates, totalling 60 fits\n",
      "Best parameters for LogisticRegression: {'C': 10, 'max_iter': 300}\n",
      "Best cross-validation accuracy: 0.7913429084194901\n"
     ]
    }
   ],
   "source": [
    "# LogisticRegression tuning\n",
    "lr_params = {\n",
    "    'C': [0.1, 1, 10, 100],\n",
    "    'max_iter': [100, 300, 500]\n",
    "}\n",
    "lr = LogisticRegression(random_state=42)\n",
    "lr_best = hyperparameter_tuning(lr, lr_params, X_train, y_train)\n"
   ]
  },
  {
   "cell_type": "code",
   "execution_count": 29,
   "id": "2ec69126",
   "metadata": {
    "execution": {
     "iopub.execute_input": "2022-12-31T21:12:43.645479Z",
     "iopub.status.busy": "2022-12-31T21:12:43.644724Z",
     "iopub.status.idle": "2022-12-31T21:12:46.616067Z",
     "shell.execute_reply": "2022-12-31T21:12:46.614564Z"
    },
    "papermill": {
     "duration": 3.020753,
     "end_time": "2022-12-31T21:12:46.618584",
     "exception": false,
     "start_time": "2022-12-31T21:12:43.597831",
     "status": "completed"
    },
    "tags": []
   },
   "outputs": [
    {
     "name": "stdout",
     "output_type": "stream",
     "text": [
      "GradientBoostingClassifier accuracy:  0.7906843013225991\n"
     ]
    }
   ],
   "source": [
    "# Buat model GradientBoostingClassifier dan latih model\n",
    "gbc = GradientBoostingClassifier(n_estimators=3000, learning_rate=0.01, random_state=42)\n",
    "gbc.fit(X_train, y_train)\n",
    "\n",
    "# Cetak akurasi model GradientBoostingClassifier\n",
    "print('GradientBoostingClassifier accuracy: ', accuracy_score(y_valid, gbc.predict(X_valid)))"
   ]
  },
  {
   "cell_type": "code",
   "execution_count": 30,
   "id": "14632ec8",
   "metadata": {},
   "outputs": [
    {
     "name": "stdout",
     "output_type": "stream",
     "text": [
      "Fitting 5 folds for each of 27 candidates, totalling 135 fits\n",
      "Best parameters for GradientBoostingClassifier: {'learning_rate': 0.05, 'max_depth': 3, 'n_estimators': 300}\n",
      "Best cross-validation accuracy: 0.7996824395264521\n"
     ]
    }
   ],
   "source": [
    "# GradientBoostingClassifier tuning\n",
    "gbc_params = {\n",
    "    'n_estimators': [100, 300, 500],\n",
    "    'learning_rate': [0.01, 0.1, 0.05],\n",
    "    'max_depth': [3, 5, 7]\n",
    "}\n",
    "gbc = GradientBoostingClassifier(random_state=42)\n",
    "gbc_best = hyperparameter_tuning(gbc, gbc_params, X_train, y_train)"
   ]
  },
  {
   "cell_type": "code",
   "execution_count": 31,
   "id": "91fde93f",
   "metadata": {
    "execution": {
     "iopub.execute_input": "2022-12-31T21:12:46.690476Z",
     "iopub.status.busy": "2022-12-31T21:12:46.689552Z",
     "iopub.status.idle": "2022-12-31T21:12:46.810583Z",
     "shell.execute_reply": "2022-12-31T21:12:46.809618Z"
    },
    "papermill": {
     "duration": 0.142456,
     "end_time": "2022-12-31T21:12:46.813254",
     "exception": false,
     "start_time": "2022-12-31T21:12:46.670798",
     "status": "completed"
    },
    "tags": []
   },
   "outputs": [
    {
     "name": "stdout",
     "output_type": "stream",
     "text": [
      "[16:02:55] WARNING: C:\\Users\\dev-admin\\croot2\\xgboost-split_1675461376218\\work\\src\\learner.cc:767: \n",
      "Parameters: { \"eval_set\" } are not used.\n",
      "\n",
      "[0]\tvalidation_0-logloss:0.68890\n",
      "[100]\tvalidation_0-logloss:0.48794\n",
      "[200]\tvalidation_0-logloss:0.44367\n",
      "[300]\tvalidation_0-logloss:0.43036\n",
      "[400]\tvalidation_0-logloss:0.42503\n",
      "[487]\tvalidation_0-logloss:0.42442\n",
      "XGBClassifier accuracy:  0.7901092581943646\n"
     ]
    }
   ],
   "source": [
    "# Buat model XGBClassifier dan latih model\n",
    "class CustomXGBClassifier(XGBClassifier):\n",
    "    def __init__(self, **params):\n",
    "        super().__init__(**params)\n",
    "        self.eval_set = params['eval_set']\n",
    "    def fit(self, X, y):\n",
    "        super().fit(X, y, eval_set=self.eval_set, verbose=100)\n",
    "        \n",
    "xgb = CustomXGBClassifier(n_estimators=3000, learning_rate=0.01, eval_set=[(X_valid, y_valid)], early_stopping_rounds=40, objective='binary:logistic')\n",
    "xgb.fit(X_train, y_train)\n",
    "\n",
    "# Cetak akurasi model XGBClassifier\n",
    "print('XGBClassifier accuracy: ', accuracy_score(y_valid, xgb.predict(X_valid)))"
   ]
  },
  {
   "cell_type": "code",
   "execution_count": 32,
   "id": "a134dda2",
   "metadata": {},
   "outputs": [
    {
     "name": "stdout",
     "output_type": "stream",
     "text": [
      "Fitting 5 folds for each of 27 candidates, totalling 135 fits\n",
      "Best parameters for XGBClassifier: {'eval_metric': 'logloss', 'learning_rate': 0.1, 'max_depth': 5, 'n_estimators': 100}\n",
      "Best cross-validation accuracy: 0.7995385546343659\n"
     ]
    }
   ],
   "source": [
    "# XGBClassifier tuning\n",
    "xgb_params = {\n",
    "    'n_estimators': [100, 300, 500],\n",
    "    'learning_rate': [0.01, 0.1, 0.05],\n",
    "    'max_depth': [3, 5, 7],\n",
    "    'eval_metric': ['logloss']\n",
    "}\n",
    "xgb = XGBClassifier(random_state=42)\n",
    "xgb_best = hyperparameter_tuning(xgb, xgb_params, X_train, y_train)"
   ]
  },
  {
   "cell_type": "code",
   "execution_count": 34,
   "id": "a977cd86",
   "metadata": {},
   "outputs": [
    {
     "name": "stdout",
     "output_type": "stream",
     "text": [
      "Fitting 5 folds for each of 12 candidates, totalling 60 fits\n",
      "Best parameters for CatBoostClassifier: {'depth': 8, 'iterations': 1000, 'learning_rate': 0.01}\n",
      "Best cross-validation accuracy: 0.8015527362437871\n"
     ]
    }
   ],
   "source": [
    "# CatBoostClassifier tuning\n",
    "cbc_params = {\n",
    "    'iterations': [1000, 2000],\n",
    "    'learning_rate': [0.01, 0.1],\n",
    "    'depth': [6, 8, 10]\n",
    "} \n",
    "cbc = CatBoostClassifier(random_state=42, verbose=False)\n",
    "cbc_best = hyperparameter_tuning(cbc, cbc_params, X_train, y_train)"
   ]
  },
  {
   "cell_type": "code",
   "execution_count": 35,
   "id": "ad4d58f1",
   "metadata": {},
   "outputs": [
    {
     "name": "stdout",
     "output_type": "stream",
     "text": [
      "KNeighborsClassifier accuracy:  0.5307648073605521\n"
     ]
    }
   ],
   "source": [
    "# Buat model KNeighborsClassifier dan latih model\n",
    "knn = KNeighborsClassifier(n_neighbors=5)\n",
    "knn.fit(X_train, y_train)\n",
    "\n",
    "# Cetak akurasi model KNeighborsClassifier\n",
    "print('KNeighborsClassifier accuracy: ', accuracy_score(y_valid, knn.predict(X_valid)))"
   ]
  },
  {
   "cell_type": "code",
   "execution_count": 36,
   "id": "ee54ac8b",
   "metadata": {},
   "outputs": [
    {
     "name": "stdout",
     "output_type": "stream",
     "text": [
      "Fitting 5 folds for each of 8 candidates, totalling 40 fits\n",
      "Best parameters for KNeighborsClassifier: {'n_neighbors': 3, 'weights': 'distance'}\n",
      "Best cross-validation accuracy: 0.5517698048606405\n"
     ]
    }
   ],
   "source": [
    "# KNeighborsClassifier tuning\n",
    "knn_params = {\n",
    "    'n_neighbors': [3, 5, 7, 9],\n",
    "    'weights': ['uniform', 'distance']\n",
    "}\n",
    "knn = KNeighborsClassifier()\n",
    "knn_best = hyperparameter_tuning(knn, knn_params, X_train, y_train)"
   ]
  },
  {
   "cell_type": "code",
   "execution_count": 37,
   "id": "ba9f5fef",
   "metadata": {},
   "outputs": [
    {
     "name": "stdout",
     "output_type": "stream",
     "text": [
      "SVC accuracy:  0.7625071880391029\n"
     ]
    }
   ],
   "source": [
    "# Buat model SVC dan latih model\n",
    "svc = SVC(kernel='linear', random_state=42)\n",
    "svc.fit(X_train, y_train)\n",
    "\n",
    "# Cetak akurasi model SVC\n",
    "print('SVC accuracy: ', accuracy_score(y_valid, svc.predict(X_valid)))"
   ]
  },
  {
   "cell_type": "code",
   "execution_count": 38,
   "id": "4d945eb0",
   "metadata": {},
   "outputs": [
    {
     "name": "stdout",
     "output_type": "stream",
     "text": [
      "Fitting 5 folds for each of 2 candidates, totalling 10 fits\n",
      "Best parameters for SVC: {'C': 0.1, 'kernel': 'linear'}\n",
      "Best cross-validation accuracy: 0.7756676269336795\n"
     ]
    }
   ],
   "source": [
    "# SVC tuning\n",
    "svc_params = {\n",
    "    'C': [0.1],\n",
    "    'kernel': ['linear', 'rbf']\n",
    "}\n",
    "svc = SVC(random_state=42)\n",
    "svc_best = hyperparameter_tuning(svc, svc_params, X_train, y_train)"
   ]
  },
  {
   "cell_type": "code",
   "execution_count": 39,
   "id": "c0c8230b",
   "metadata": {},
   "outputs": [
    {
     "name": "stdout",
     "output_type": "stream",
     "text": [
      "DecisionTreeClassifier accuracy:  0.7251293847038528\n"
     ]
    }
   ],
   "source": [
    "# Buat model DecisionTreeClassifier dan latih model\n",
    "dt = DecisionTreeClassifier(random_state=42)\n",
    "dt.fit(X_train, y_train)\n",
    "\n",
    "# Cetak akurasi model DecisionTreeClassifier\n",
    "print('DecisionTreeClassifier accuracy: ', accuracy_score(y_valid, dt.predict(X_valid)))"
   ]
  },
  {
   "cell_type": "code",
   "execution_count": 40,
   "id": "0fc93880",
   "metadata": {},
   "outputs": [
    {
     "name": "stdout",
     "output_type": "stream",
     "text": [
      "Fitting 5 folds for each of 12 candidates, totalling 60 fits\n",
      "Best parameters for DecisionTreeClassifier: {'max_depth': 10, 'min_samples_split': 5}\n",
      "Best cross-validation accuracy: 0.7644537080615882\n"
     ]
    }
   ],
   "source": [
    "# DecisionTreeClassifier tuning\n",
    "dt_params = {\n",
    "    'max_depth': [None, 10, 20, 30],\n",
    "    'min_samples_split': [2, 5, 10]\n",
    "}\n",
    "dt = DecisionTreeClassifier(random_state=42)\n",
    "dt_best = hyperparameter_tuning(dt, dt_params, X_train, y_train)"
   ]
  },
  {
   "cell_type": "code",
   "execution_count": 41,
   "id": "0bcf37bb",
   "metadata": {},
   "outputs": [
    {
     "name": "stdout",
     "output_type": "stream",
     "text": [
      "GaussianNB accuracy:  0.6670500287521565\n"
     ]
    }
   ],
   "source": [
    "# Buat model GaussianNB dan latih model\n",
    "nb = GaussianNB()\n",
    "nb.fit(X_train, y_train)\n",
    "\n",
    "# Cetak akurasi model GaussianNB\n",
    "print('GaussianNB accuracy: ', accuracy_score(y_valid, nb.predict(X_valid)))"
   ]
  },
  {
   "cell_type": "code",
   "execution_count": 42,
   "id": "78bf5274",
   "metadata": {},
   "outputs": [
    {
     "name": "stdout",
     "output_type": "stream",
     "text": [
      "StackingClassifier accuracy:  0.7987349051178838\n"
     ]
    }
   ],
   "source": [
    "# Buat model StackingClassifier\n",
    "estimators = [\n",
    "    ('xgb', xgb_best),\n",
    "    ('rf', rf_best),\n",
    "    ('lr', lr_best),\n",
    "    ('gbc', gbc_best),\n",
    "    ('cbc', cbc_best),\n",
    "    ('knn', knn_best),\n",
    "    ('svc', svc_best),\n",
    "    ('dt', dt_best),\n",
    "    ('nb', nb)\n",
    "]\n",
    "stacking_clf = StackingClassifier(estimators=estimators, final_estimator=lr_best, cv=5)\n",
    "\n",
    "# Latih model StackingClassifier\n",
    "stacking_clf.fit(X_train, y_train)\n",
    "\n",
    "# Cetak akurasi model StackingClassifier\n",
    "print('StackingClassifier accuracy: ', accuracy_score(y_valid, stacking_clf.predict(X_valid)))"
   ]
  },
  {
   "cell_type": "code",
   "execution_count": 43,
   "id": "6bb40e2f",
   "metadata": {},
   "outputs": [
    {
     "name": "stdout",
     "output_type": "stream",
     "text": [
      "StackingClassifier cross-validation scores:  [0.79465056 0.79594478 0.80284728]\n",
      "StackingClassifier average cross-validation score:  0.7978142076502731\n"
     ]
    }
   ],
   "source": [
    "# Lakukan k-fold cross validation sebanyak 3 kali\n",
    "cv_scores_stacking = cross_val_score(stacking_clf, X_train, y_train, cv=3)\n",
    "\n",
    "# Cetak skor cross validation\n",
    "print('StackingClassifier cross-validation scores: ', cv_scores_stacking)\n",
    "print('StackingClassifier average cross-validation score: ', cv_scores_stacking.mean())"
   ]
  },
  {
   "cell_type": "code",
   "execution_count": 47,
   "id": "289b2b13",
   "metadata": {
    "execution": {
     "iopub.execute_input": "2022-12-31T21:12:54.729961Z",
     "iopub.status.busy": "2022-12-31T21:12:54.729557Z",
     "iopub.status.idle": "2022-12-31T21:13:19.625580Z",
     "shell.execute_reply": "2022-12-31T21:13:19.624003Z"
    },
    "papermill": {
     "duration": 24.920156,
     "end_time": "2022-12-31T21:13:19.629981",
     "exception": false,
     "start_time": "2022-12-31T21:12:54.709825",
     "status": "completed"
    },
    "tags": []
   },
   "outputs": [
    {
     "name": "stdout",
     "output_type": "stream",
     "text": [
      "VotingClassifier accuracy:  0.7935595169637722\n"
     ]
    }
   ],
   "source": [
    "# Buat model VotingClassifier dan latih model\n",
    "from sklearn.ensemble import VotingClassifier\n",
    "voting_clf = VotingClassifier(\n",
    "    estimators=[\n",
    "        ('xgb', xgb),\n",
    "        ('rf', rf),\n",
    "        ('lr', lr),\n",
    "        ('gbc', gbc),\n",
    "        ('cbc', cbc),\n",
    "        ('knn', knn),\n",
    "        ('svc', svc),\n",
    "        ('dt', dt),\n",
    "        ('nb', nb)\n",
    "    ],\n",
    "    voting='hard'\n",
    ")\n",
    "voting_clf.fit(X_train, y_train)\n",
    "\n",
    "# Cetak akurasi model VotingClassifier\n",
    "print('VotingClassifier accuracy: ', accuracy_score(y_valid, voting_clf.predict(X_valid)))"
   ]
  },
  {
   "cell_type": "code",
   "execution_count": 45,
   "id": "3ad574a6",
   "metadata": {},
   "outputs": [
    {
     "name": "stdout",
     "output_type": "stream",
     "text": [
      "VotingClassifier cross-validation scores:  [0.78861087 0.79206212 0.79421915]\n",
      "VotingClassifier average cross-validation score:  0.7916307161345989\n"
     ]
    }
   ],
   "source": [
    "# Lakukan k-fold cross validation sebanyak 3 kali\n",
    "cv_scores_voting = cross_val_score(voting_clf, X_train, y_train, cv=3)\n",
    "\n",
    "# Cetak skor cross validation\n",
    "print('VotingClassifier cross-validation scores: ', cv_scores_voting)\n",
    "print('VotingClassifier average cross-validation score: ', cv_scores_voting.mean())"
   ]
  },
  {
   "cell_type": "markdown",
   "id": "c36cdcde",
   "metadata": {
    "papermill": {
     "duration": 0.018876,
     "end_time": "2022-12-31T21:13:19.801379",
     "exception": false,
     "start_time": "2022-12-31T21:13:19.782503",
     "status": "completed"
    },
    "tags": []
   },
   "source": [
    "## Prediction and Submission"
   ]
  },
  {
   "cell_type": "code",
   "execution_count": null,
   "id": "7e3cc077",
   "metadata": {
    "execution": {
     "iopub.execute_input": "2022-12-31T21:13:19.840383Z",
     "iopub.status.busy": "2022-12-31T21:13:19.839990Z",
     "iopub.status.idle": "2022-12-31T21:13:19.866461Z",
     "shell.execute_reply": "2022-12-31T21:13:19.865553Z"
    },
    "papermill": {
     "duration": 0.048854,
     "end_time": "2022-12-31T21:13:19.868906",
     "exception": false,
     "start_time": "2022-12-31T21:13:19.820052",
     "status": "completed"
    },
    "tags": []
   },
   "outputs": [],
   "source": [
    "# Baca data uji dari file CSV\n",
    "test_df = pd.read_csv(\"../Datasets/test.csv\")"
   ]
  },
  {
   "cell_type": "code",
   "execution_count": null,
   "id": "86ad918b",
   "metadata": {},
   "outputs": [],
   "source": [
    "# Ekstrak informasi dari kolom \"Cabin\" dan buat kolom baru \"deck\", \"num\", dan \"side\"\n",
    "test_df[['deck', 'num', 'side']] = test_df['Cabin'].str.extract(r'(\\w)(\\d+)(\\w)')"
   ]
  },
  {
   "cell_type": "code",
   "execution_count": null,
   "id": "392dcb89",
   "metadata": {},
   "outputs": [],
   "source": [
    "# Hapus kolom \"Cabin\" setelah ekstraksi informasi\n",
    "test_df.drop([\"Cabin\"], axis=1, inplace=True)"
   ]
  },
  {
   "cell_type": "code",
   "execution_count": null,
   "id": "cf6048a9",
   "metadata": {},
   "outputs": [],
   "source": [
    "# # Membuat fitur pengelompokan usia\n",
    "# bins = [0, 5, 12, 17, 26, 36, 46, 56, np.inf]\n",
    "# labels = ['Bayi', 'Kanak-kanak', 'Remaja Awal', 'Remaja Akhir', 'Dewasa Awal', 'Dewasa Akhir', 'Lansia Awal', 'Lansia Akhir']\n",
    "# test_df['AgeGroup'] = pd.cut(test_df['Age'], bins=bins, labels=labels)\n",
    "\n",
    "# Membuat fitur total pengeluaran\n",
    "amenities = ['RoomService', 'FoodCourt', 'ShoppingMall', 'Spa', 'VRDeck']\n",
    "test_df['TotalSpend'] = test_df[amenities].sum(axis=1)\n",
    "\n",
    "# Membuat fitur rasio pengeluaran dan usia\n",
    "test_df['SpendAgeRatio'] = test_df['TotalSpend'] / test_df['Age']"
   ]
  },
  {
   "cell_type": "code",
   "execution_count": null,
   "id": "cb32a711",
   "metadata": {},
   "outputs": [],
   "source": [
    "# # Hapus kolom \"Age\" setelah ekstraksi informasi\n",
    "# test_df.drop([\"Age\"], axis=1, inplace=True)"
   ]
  },
  {
   "cell_type": "code",
   "execution_count": null,
   "id": "626dc3c0",
   "metadata": {
    "execution": {
     "iopub.execute_input": "2022-12-31T21:13:20.132710Z",
     "iopub.status.busy": "2022-12-31T21:13:20.132088Z",
     "iopub.status.idle": "2022-12-31T21:13:20.148021Z",
     "shell.execute_reply": "2022-12-31T21:13:20.146833Z"
    },
    "papermill": {
     "duration": 0.03889,
     "end_time": "2022-12-31T21:13:20.150698",
     "exception": false,
     "start_time": "2022-12-31T21:13:20.111808",
     "status": "completed"
    },
    "tags": []
   },
   "outputs": [],
   "source": [
    "# Ekstrak informasi grup dari \"PassengerId\"\n",
    "test_df[\"group\"] = test_df[\"PassengerId\"].str.split(\"_\").str[0]\n",
    "test_df[\"group\"] = pd.to_numeric(test_df[\"group\"])"
   ]
  },
  {
   "cell_type": "code",
   "execution_count": null,
   "id": "1194c675",
   "metadata": {
    "execution": {
     "iopub.execute_input": "2022-12-31T21:13:19.945630Z",
     "iopub.status.busy": "2022-12-31T21:13:19.945045Z",
     "iopub.status.idle": "2022-12-31T21:13:19.958286Z",
     "shell.execute_reply": "2022-12-31T21:13:19.957352Z"
    },
    "papermill": {
     "duration": 0.03581,
     "end_time": "2022-12-31T21:13:19.960789",
     "exception": false,
     "start_time": "2022-12-31T21:13:19.924979",
     "status": "completed"
    },
    "tags": []
   },
   "outputs": [],
   "source": [
    "# Lakukan encoding pada kolom kategorikal dengan OrdinalEncoder\n",
    "test_df[categorical_cols] = encoder.transform(test_df[categorical_cols])"
   ]
  },
  {
   "cell_type": "code",
   "execution_count": null,
   "id": "d653a878",
   "metadata": {},
   "outputs": [],
   "source": [
    "# # Lakukan encoding pada kolom kategorikal dengan LabelEncoder\n",
    "# for col in categorical_cols:\n",
    "#     test_df[col] = encoder.fit_transform(test_df[col])"
   ]
  },
  {
   "cell_type": "code",
   "execution_count": null,
   "id": "b855e343",
   "metadata": {
    "execution": {
     "iopub.execute_input": "2022-12-31T21:13:20.037603Z",
     "iopub.status.busy": "2022-12-31T21:13:20.037001Z",
     "iopub.status.idle": "2022-12-31T21:13:20.053445Z",
     "shell.execute_reply": "2022-12-31T21:13:20.052595Z"
    },
    "papermill": {
     "duration": 0.038912,
     "end_time": "2022-12-31T21:13:20.055918",
     "exception": false,
     "start_time": "2022-12-31T21:13:20.017006",
     "status": "completed"
    },
    "tags": []
   },
   "outputs": [],
   "source": [
    "# Imputasi nilai yang hilang pada kolom numerik dengan IterativeImputer\n",
    "test_df[numeric_cols] = pd.DataFrame(iterative_imputer.transform(test_df[numeric_cols]), columns= numeric_cols)"
   ]
  },
  {
   "cell_type": "code",
   "execution_count": null,
   "id": "70fc897e",
   "metadata": {},
   "outputs": [],
   "source": [
    "# Imputasi nilai yang hilang pada kolom kategorikal dengan SimpleImputer\n",
    "test_df[categorical_cols] = pd.DataFrame(categorical_imputer.transform(test_df[categorical_cols]), columns= categorical_cols)"
   ]
  },
  {
   "cell_type": "code",
   "execution_count": null,
   "id": "19b24ca0",
   "metadata": {
    "execution": {
     "iopub.execute_input": "2022-12-31T21:13:20.227099Z",
     "iopub.status.busy": "2022-12-31T21:13:20.226397Z",
     "iopub.status.idle": "2022-12-31T21:13:20.237536Z",
     "shell.execute_reply": "2022-12-31T21:13:20.236372Z"
    },
    "papermill": {
     "duration": 0.03376,
     "end_time": "2022-12-31T21:13:20.239982",
     "exception": false,
     "start_time": "2022-12-31T21:13:20.206222",
     "status": "completed"
    },
    "tags": []
   },
   "outputs": [],
   "source": [
    "# Lakukan penskalaan pada kolom numerik dengan StandardScaler\n",
    "test_df[new_col_names] = scaler.transform(test_df[numeric_cols]) "
   ]
  },
  {
   "cell_type": "code",
   "execution_count": null,
   "id": "65db4789",
   "metadata": {
    "execution": {
     "iopub.execute_input": "2022-12-31T21:13:20.315728Z",
     "iopub.status.busy": "2022-12-31T21:13:20.314949Z",
     "iopub.status.idle": "2022-12-31T21:13:21.414879Z",
     "shell.execute_reply": "2022-12-31T21:13:21.413185Z"
    },
    "papermill": {
     "duration": 1.12409,
     "end_time": "2022-12-31T21:13:21.419232",
     "exception": false,
     "start_time": "2022-12-31T21:13:20.295142",
     "status": "completed"
    },
    "tags": []
   },
   "outputs": [],
   "source": [
    "# Prediksi label data uji\n",
    "preds = [x == 1 for x in stacking_clf.predict(test_df[train_df.columns])]"
   ]
  },
  {
   "cell_type": "code",
   "execution_count": null,
   "id": "e1a3aab1",
   "metadata": {
    "execution": {
     "iopub.execute_input": "2022-12-31T21:13:21.501638Z",
     "iopub.status.busy": "2022-12-31T21:13:21.501229Z",
     "iopub.status.idle": "2022-12-31T21:13:21.508512Z",
     "shell.execute_reply": "2022-12-31T21:13:21.507327Z"
    },
    "papermill": {
     "duration": 0.042981,
     "end_time": "2022-12-31T21:13:21.510676",
     "exception": false,
     "start_time": "2022-12-31T21:13:21.467695",
     "status": "completed"
    },
    "tags": []
   },
   "outputs": [],
   "source": [
    "# Buat DataFrame untuk submisi\n",
    "submission_df = pd.DataFrame({\n",
    "    \"PassengerId\" : test_df[\"PassengerId\"],\n",
    "    \"Transported\" : preds\n",
    "})"
   ]
  },
  {
   "cell_type": "code",
   "execution_count": null,
   "id": "56a1b840",
   "metadata": {
    "execution": {
     "iopub.execute_input": "2022-12-31T21:13:21.600743Z",
     "iopub.status.busy": "2022-12-31T21:13:21.600334Z",
     "iopub.status.idle": "2022-12-31T21:13:21.612606Z",
     "shell.execute_reply": "2022-12-31T21:13:21.611683Z"
    },
    "papermill": {
     "duration": 0.034928,
     "end_time": "2022-12-31T21:13:21.615096",
     "exception": false,
     "start_time": "2022-12-31T21:13:21.580168",
     "status": "completed"
    },
    "tags": []
   },
   "outputs": [],
   "source": [
    "# Simpan DataFrame submisi ke file CSV\n",
    "submission_df.to_csv(\"../Submissions/submission_stcaking_v8.csv\", index=False)"
   ]
  }
 ],
 "metadata": {
  "kernelspec": {
   "display_name": "Python 3",
   "language": "python",
   "name": "python3"
  },
  "language_info": {
   "codemirror_mode": {
    "name": "ipython",
    "version": 3
   },
   "file_extension": ".py",
   "mimetype": "text/x-python",
   "name": "python",
   "nbconvert_exporter": "python",
   "pygments_lexer": "ipython3",
   "version": "3.10.11"
  },
  "papermill": {
   "default_parameters": {},
   "duration": 65.933819,
   "end_time": "2022-12-31T21:13:22.456331",
   "environment_variables": {},
   "exception": null,
   "input_path": "__notebook__.ipynb",
   "output_path": "__notebook__.ipynb",
   "parameters": {},
   "start_time": "2022-12-31T21:12:16.522512",
   "version": "2.3.4"
  }
 },
 "nbformat": 4,
 "nbformat_minor": 5
}
